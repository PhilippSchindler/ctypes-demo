{
 "cells": [
  {
   "cell_type": "markdown",
   "metadata": {
    "slideshow": {
     "slide_type": "slide"
    }
   },
   "source": [
    "# Intro to Python ctypes\n",
    "### Philipp Schindler\n",
    "\n",
    "Slides available at:  \n",
    "https://github.com/PhilippSchindler/ctypes-demo\n",
    "\n",
    "See also:  \n",
    "https://docs.python.org/3/library/ctypes.html"
   ]
  },
  {
   "cell_type": "code",
   "execution_count": null,
   "metadata": {
    "slideshow": {
     "slide_type": "fragment"
    }
   },
   "outputs": [],
   "source": [
    "from ctypes import cdll\n",
    "from ctypes import c_char, c_int, c_uint32, c_double, sizeof, byref, POINTER"
   ]
  },
  {
   "cell_type": "markdown",
   "metadata": {
    "slideshow": {
     "slide_type": "slide"
    }
   },
   "source": [
    "## Loading a shared library"
   ]
  },
  {
   "cell_type": "code",
   "execution_count": null,
   "metadata": {
    "slideshow": {
     "slide_type": "-"
    }
   },
   "outputs": [],
   "source": [
    "libc = cdll.LoadLibrary(\"libc.so.6\")\n",
    "libc"
   ]
  },
  {
   "cell_type": "code",
   "execution_count": null,
   "metadata": {
    "scrolled": true,
    "slideshow": {
     "slide_type": "-"
    }
   },
   "outputs": [],
   "source": [
    "import ctypes.util\n",
    "\n",
    "name = ctypes.util.find_library('sodium')\n",
    "libsodium = ctypes.cdll.LoadLibrary(name)\n",
    "name, libsodium"
   ]
  },
  {
   "cell_type": "code",
   "execution_count": null,
   "metadata": {
    "slideshow": {
     "slide_type": "fragment"
    }
   },
   "outputs": [],
   "source": [
    "try:\n",
    "    ctypes.cdll.LoadLibrary(\"~/test/custom-libsodium.so\")\n",
    "except OSError as e:\n",
    "    print(e)\n",
    "ctypes.cdll.LoadLibrary(\"/home/sp/test/custom-libsodium.so\")"
   ]
  },
  {
   "cell_type": "markdown",
   "metadata": {
    "slideshow": {
     "slide_type": "slide"
    }
   },
   "source": [
    "## Using shared library functions"
   ]
  },
  {
   "cell_type": "code",
   "execution_count": null,
   "metadata": {
    "slideshow": {
     "slide_type": "-"
    }
   },
   "outputs": [],
   "source": [
    "libc.random()"
   ]
  },
  {
   "cell_type": "code",
   "execution_count": null,
   "metadata": {
    "slideshow": {
     "slide_type": "-"
    }
   },
   "outputs": [],
   "source": [
    "libc.printf(b\"Hello, %s\\n\", b\"World!\")"
   ]
  },
  {
   "cell_type": "markdown",
   "metadata": {
    "slideshow": {
     "slide_type": "notes"
    }
   },
   "source": [
    "automatic type conversion is only performed for int, strings and bytes objects"
   ]
  },
  {
   "cell_type": "code",
   "execution_count": null,
   "metadata": {},
   "outputs": [],
   "source": [
    "libc.printf(b\"7 // 3 == %d \\n\", 7 // 3)\n",
    "\n",
    "# explict type required here\n",
    "libc.printf(b\"but 7 / 3 == %.2f \\n\", c_double(7 / 3))  "
   ]
  },
  {
   "cell_type": "markdown",
   "metadata": {
    "slideshow": {
     "slide_type": "notes"
    }
   },
   "source": [
    "`None` is also used as null pointer"
   ]
  },
  {
   "cell_type": "code",
   "execution_count": null,
   "metadata": {
    "slideshow": {
     "slide_type": "-"
    }
   },
   "outputs": [],
   "source": [
    "import time\n",
    "print(libc.time(None))\n",
    "print(time.time())"
   ]
  },
  {
   "cell_type": "markdown",
   "metadata": {
    "slideshow": {
     "slide_type": "slide"
    }
   },
   "source": [
    "## time(2) - Linux man page\n",
    "### Name\n",
    "time - get time in seconds\n",
    "\n",
    "### Synopsis\n",
    "```\n",
    "#include <time.h>  \n",
    "time_t time(time_t *t);\n",
    "```\n",
    "\n",
    "### Description\n",
    "time() returns the time as the number of seconds since the Epoch, 1970-01-01 00:00:00 +0000 (UTC).\n",
    "If t is non-NULL, the return value is also stored in the memory pointed to by t."
   ]
  },
  {
   "cell_type": "markdown",
   "metadata": {
    "slideshow": {
     "slide_type": "slide"
    }
   },
   "source": [
    "## Using shared library functions cont."
   ]
  },
  {
   "cell_type": "code",
   "execution_count": null,
   "metadata": {},
   "outputs": [],
   "source": [
    "# the following line would most likely crash your python interpreter\n",
    "# libc.time(4711)"
   ]
  },
  {
   "cell_type": "code",
   "execution_count": null,
   "metadata": {
    "slideshow": {
     "slide_type": "fragment"
    }
   },
   "outputs": [],
   "source": [
    "v1, v2 = c_uint32(), c_uint32()\n",
    "\n",
    "ptr = POINTER(c_uint32)(v1)\n",
    "r1 = libc.time(ptr)\n",
    "r2 = libc.time(byref(v2))\n",
    "\n",
    "r1, r2, v1, v2"
   ]
  },
  {
   "cell_type": "code",
   "execution_count": null,
   "metadata": {
    "slideshow": {
     "slide_type": "fragment"
    }
   },
   "outputs": [],
   "source": [
    "r1 == v1, r2 == v2"
   ]
  },
  {
   "cell_type": "markdown",
   "metadata": {
    "slideshow": {
     "slide_type": "slide"
    }
   },
   "source": [
    "## Python callbacks in C Code"
   ]
  },
  {
   "cell_type": "code",
   "execution_count": null,
   "metadata": {
    "slideshow": {
     "slide_type": "-"
    }
   },
   "outputs": [],
   "source": [
    "from ctypes import CFUNCTYPE\n",
    "\n",
    "values = (c_int * 5)(3, 3, 2, 4, 1)\n",
    "\n",
    "@CFUNCTYPE(c_int, POINTER(c_int), POINTER(c_int))\n",
    "def compare_ints(a_ptr, b_ptr):\n",
    "    a, b = a_ptr[0], b_ptr[0]\n",
    "    print(f\"comparing {a} to {a}\")\n",
    "    return a - b\n",
    "\n",
    "libc.qsort(values, len(values), sizeof(c_int), compare_ints)\n",
    "\n",
    "print()\n",
    "print(\" <= \".join(str(v) for v in values))"
   ]
  },
  {
   "cell_type": "markdown",
   "metadata": {
    "slideshow": {
     "slide_type": "slide"
    }
   },
   "source": [
    "## A real world example: digital signatures with Libsodium\n",
    "\n",
    "### Generating a new keypair"
   ]
  },
  {
   "cell_type": "code",
   "execution_count": null,
   "metadata": {
    "slideshow": {
     "slide_type": "-"
    }
   },
   "outputs": [],
   "source": [
    "# allocate space for keypair\n",
    "sk = bytearray(64)\n",
    "pk = bytearray(32)\n",
    "\n",
    "# create corresponding ctypes\n",
    "c_sk = ctypes.ARRAY(c_char, len(sk)).from_buffer(sk)\n",
    "c_pk = ctypes.ARRAY(c_char, len(pk)).from_buffer(pk)\n",
    "\n",
    "# randomly generate a fresh keypair\n",
    "libsodium.crypto_sign_keypair(c_pk, c_sk)\n",
    "\n",
    "print(\"sk:\", sk[:32].hex())\n",
    "print(\"pk:\", pk.hex())"
   ]
  },
  {
   "cell_type": "markdown",
   "metadata": {
    "slideshow": {
     "slide_type": "slide"
    }
   },
   "source": [
    "### Signing a message"
   ]
  },
  {
   "cell_type": "code",
   "execution_count": null,
   "metadata": {
    "slideshow": {
     "slide_type": "-"
    }
   },
   "outputs": [],
   "source": [
    "msg = b\"Hello libsodium!\"\n",
    "c_msg = ctypes.create_string_buffer(msg)\n",
    "\n",
    "sig = bytearray(64)\n",
    "c_sig = ctypes.ARRAY(c_char, len(sig)).from_buffer(sig)\n",
    "c_siglen = ctypes.c_longlong()\n",
    "\n",
    "libsodium.crypto_sign_detached(\n",
    "    c_sig, byref(c_siglen), c_msg, len(msg), c_sk\n",
    ") == 0\n",
    "\n",
    "print(f\"sig: {sig[:32].hex()}...\")\n",
    "print(\"len:\", c_siglen.value)"
   ]
  },
  {
   "cell_type": "markdown",
   "metadata": {
    "slideshow": {
     "slide_type": "slide"
    }
   },
   "source": [
    "### Verifying a signature"
   ]
  },
  {
   "cell_type": "code",
   "execution_count": null,
   "metadata": {
    "slideshow": {
     "slide_type": "-"
    }
   },
   "outputs": [],
   "source": [
    "libsodium.crypto_sign_verify_detached(c_sig, c_msg, len(msg), c_pk) == 0"
   ]
  },
  {
   "cell_type": "code",
   "execution_count": null,
   "metadata": {
    "slideshow": {
     "slide_type": "fragment"
    }
   },
   "outputs": [],
   "source": [
    "c_other_msg = ctypes.create_string_buffer(b\"Hello libsodium?\")\n",
    "libsodium.crypto_sign_verify_detached(\n",
    "    c_sig, c_other_msg, len(c_other_msg), c_pk\n",
    ") == 0"
   ]
  },
  {
   "cell_type": "code",
   "execution_count": null,
   "metadata": {
    "slideshow": {
     "slide_type": "-"
    }
   },
   "outputs": [],
   "source": [
    "invalid_sig = sig[:]\n",
    "invalid_sig[17] += 1\n",
    "c_invalid_sig = ctypes.ARRAY(c_char, len(invalid_sig)).from_buffer(invalid_sig)\n",
    "\n",
    "libsodium.crypto_sign_verify_detached(\n",
    "    c_invalid_sig, c_other_msg, len(c_msg), c_pk\n",
    ") == 0"
   ]
  },
  {
   "cell_type": "markdown",
   "metadata": {
    "slideshow": {
     "slide_type": "slide"
    }
   },
   "source": [
    "## Writing a sharing library"
   ]
  },
  {
   "cell_type": "code",
   "execution_count": null,
   "metadata": {},
   "outputs": [],
   "source": [
    "!cat foo.h"
   ]
  },
  {
   "cell_type": "code",
   "execution_count": null,
   "metadata": {},
   "outputs": [],
   "source": [
    "!cat foo.c"
   ]
  },
  {
   "cell_type": "markdown",
   "metadata": {
    "slideshow": {
     "slide_type": "slide"
    }
   },
   "source": [
    "## Writing a sharing library"
   ]
  },
  {
   "cell_type": "code",
   "execution_count": null,
   "metadata": {},
   "outputs": [],
   "source": [
    "!rm -f foo.o libfoo.so && ls"
   ]
  },
  {
   "cell_type": "code",
   "execution_count": null,
   "metadata": {},
   "outputs": [],
   "source": [
    "!gcc -c -Wall -Werror -fpic foo.c"
   ]
  },
  {
   "cell_type": "code",
   "execution_count": null,
   "metadata": {},
   "outputs": [],
   "source": [
    "!gcc -shared -o libfoo.so foo.o"
   ]
  },
  {
   "cell_type": "code",
   "execution_count": null,
   "metadata": {
    "slideshow": {
     "slide_type": "skip"
    }
   },
   "outputs": [],
   "source": [
    "!strip -s libfoo.so"
   ]
  },
  {
   "cell_type": "code",
   "execution_count": null,
   "metadata": {},
   "outputs": [],
   "source": [
    "!ls"
   ]
  },
  {
   "cell_type": "code",
   "execution_count": null,
   "metadata": {},
   "outputs": [],
   "source": [
    "libfoo = cdll.LoadLibrary('./libfoo.so')\n",
    "libfoo.the_answer_to_life_the_universe_and_everything()"
   ]
  },
  {
   "cell_type": "markdown",
   "metadata": {},
   "source": [
    "Note: Reloading of modified library requires interpreter restart"
   ]
  },
  {
   "cell_type": "code",
   "execution_count": null,
   "metadata": {
    "slideshow": {
     "slide_type": "skip"
    }
   },
   "outputs": [],
   "source": [
    "with open('/proc/self/maps') as f:\n",
    "    print(f.read())"
   ]
  },
  {
   "cell_type": "code",
   "execution_count": null,
   "metadata": {
    "slideshow": {
     "slide_type": "skip"
    }
   },
   "outputs": [],
   "source": [
    "!nm libfoo.so"
   ]
  },
  {
   "cell_type": "code",
   "execution_count": null,
   "metadata": {
    "slideshow": {
     "slide_type": "skip"
    }
   },
   "outputs": [],
   "source": [
    "!objdump -T libfoo.so"
   ]
  },
  {
   "cell_type": "code",
   "execution_count": null,
   "metadata": {
    "slideshow": {
     "slide_type": "skip"
    }
   },
   "outputs": [],
   "source": [
    "vars(libfoo)"
   ]
  },
  {
   "cell_type": "markdown",
   "metadata": {
    "slideshow": {
     "slide_type": "slide"
    }
   },
   "source": [
    "## A few key takeways\n",
    "\n",
    "- Profile first\n",
    "- Check for existing wrappers before writing your own\n",
    "- Isolate usage\n",
    "- Write unit tests for your wrappers\n",
    "- Be careful, but not afraid"
   ]
  },
  {
   "cell_type": "markdown",
   "metadata": {
    "slideshow": {
     "slide_type": "slide"
    }
   },
   "source": [
    "# Intro to Python ctypes\n",
    "### Philipp Schindler\n",
    "\n",
    "Slides available at:  \n",
    "https://github.com/PhilippSchindler/ctypes-demo\n",
    "\n",
    "See also:  \n",
    "https://docs.python.org/3/library/ctypes.html"
   ]
  },
  {
   "cell_type": "code",
   "execution_count": null,
   "metadata": {
    "slideshow": {
     "slide_type": "slide"
    }
   },
   "outputs": [],
   "source": []
  },
  {
   "cell_type": "code",
   "execution_count": null,
   "metadata": {
    "slideshow": {
     "slide_type": "-"
    }
   },
   "outputs": [],
   "source": []
  },
  {
   "cell_type": "code",
   "execution_count": null,
   "metadata": {
    "slideshow": {
     "slide_type": "-"
    }
   },
   "outputs": [],
   "source": []
  },
  {
   "cell_type": "code",
   "execution_count": null,
   "metadata": {},
   "outputs": [],
   "source": []
  }
 ],
 "metadata": {
  "celltoolbar": "Slideshow",
  "kernelspec": {
   "display_name": "Python 3",
   "language": "python",
   "name": "python3"
  },
  "language_info": {
   "codemirror_mode": {
    "name": "ipython",
    "version": 3
   },
   "file_extension": ".py",
   "mimetype": "text/x-python",
   "name": "python",
   "nbconvert_exporter": "python",
   "pygments_lexer": "ipython3",
   "version": "3.7.1"
  },
  "rise": {
   "scroll": true
  }
 },
 "nbformat": 4,
 "nbformat_minor": 2
}
